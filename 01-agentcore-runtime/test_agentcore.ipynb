{
 "cells": [
  {
   "cell_type": "markdown",
   "id": "intro-markdown",
   "metadata": {},
   "source": [
    "# Testing Your Amazon Bedrock AgentCore Agent\n",
    "\n",
    "This notebook demonstrates how to test your deployed calculator agent using the AWS SDK.\n",
    "Make sure you have deployed your agent using `agentcore launch` before running these tests!"
   ]
  },
  {
   "cell_type": "code",
   "execution_count": null,
   "id": "a57dc68a",
   "metadata": {},
   "outputs": [],
   "source": [
    "# Import required libraries for AWS interaction\n",
    "import boto3\n",
    "import json\n",
    "from botocore.exceptions import ClientError\n",
    "\n",
    "# Create a boto3 session - you can specify your AWS profile here if needed\n",
    "#boto3_client = boto3.session.Session(profile_name='agentcoreuser')\n",
    "# For default profile, you can use: \n",
    "boto3_client = boto3.session.Session()\n",
    "region = boto3_client.region_name\n",
    "\n",
    "def invoke_agent(prompt, session_id, agent_arn, region):\n",
    "    \"\"\"\n",
    "    Invoke your deployed AgentCore calculator agent with a math question.\n",
    "    \n",
    "    Args:\n",
    "        user_id (str): Unique identifier for the user\n",
    "        prompt (str): The math question or prompt to send to the agenty\n",
    "        session_id (str): Session ID to maintain conversation context (must be 33+ chars)\n",
    "        agent_arn (str): The ARN of your deployed agent (get this from 'agentcore status')\n",
    "        region (str): AWS region where your agent is deployed\n",
    "    \n",
    "    Returns:\n",
    "        dict: The agent's response containing the calculation result\n",
    "    \"\"\"\n",
    "    try:\n",
    "        # Initialize the Bedrock AgentCore client\n",
    "        agent_core_client = boto3_client.client('bedrock-agentcore', region_name=region)\n",
    "        \n",
    "        # Prepare the payload with your math question\n",
    "        payload = json.dumps({\"prompt\": prompt}).encode()\n",
    "\n",
    "        # Call the agent with your math question\n",
    "        response = agent_core_client.invoke_agent_runtime(\n",
    "            agentRuntimeArn=agent_arn,\n",
    "            runtimeSessionId=session_id,\n",
    "            payload=payload,\n",
    "            qualifier=\"DEFAULT\"\n",
    "        )\n",
    "        \n",
    "        # Process and display the response\n",
    "        response_body = response['response'].read()\n",
    "        response_data = json.loads(response_body)\n",
    "        print(\"🧮 Agent Response:\", response_data)\n",
    "        return response_data\n",
    "        \n",
    "    except ClientError as e:\n",
    "        print(f\"❌ Error calling agent: {e}\")\n",
    "        return None\n",
    "    except Exception as e:\n",
    "        print(f\"❌ Unexpected error: {e}\")\n",
    "        return None"
   ]
  },
  {
   "cell_type": "markdown",
   "id": "ab0fe6c7",
   "metadata": {},
   "source": [
    "## Test Your Calculator Agent\n",
    "\n",
    "Before running the cell below, make sure to:\n",
    "1. Replace `YOUR_AGENT_ARN_HERE` with your actual agent ARN from `agentcore status`\n",
    "2. Update the region if your agent is deployed in a different region\n",
    "3. Try different math problems to test the calculator functionality!"
   ]
  },
  {
   "cell_type": "code",
   "execution_count": null,
   "id": "b114766a",
   "metadata": {},
   "outputs": [],
   "source": [
    "# Configuration - Update these values with your agent details\n",
    "prompt = \"What is 25 plus 37?\"  # Try different math problems!\n",
    "session_id = \"calculator-session-2024-test-12345-67890-abcdef\"  # Must be 33+ characters\n",
    "\n",
    "# 🚨 IMPORTANT: Replace this with your actual agent ARN from 'agentcore status'\n",
    "agent_arn = \"YOUR-ARN\"\n",
    "\n",
    "# Test the calculator agent\n",
    "print(\"🚀 Testing calculator agent...\")\n",
    "print(f\"📝 Question: {prompt}\")\n",
    "print(\"\\n\" + \"=\"*50)\n",
    "\n",
    "result = invoke_agent(prompt, session_id, agent_arn,region)"
   ]
  },
  {
   "cell_type": "code",
   "execution_count": null,
   "id": "654a9cff",
   "metadata": {},
   "outputs": [],
   "source": []
  }
 ],
 "metadata": {
  "kernelspec": {
   "display_name": ".venv",
   "language": "python",
   "name": "python3"
  },
  "language_info": {
   "codemirror_mode": {
    "name": "ipython",
    "version": 3
   },
   "file_extension": ".py",
   "mimetype": "text/x-python",
   "name": "python",
   "nbconvert_exporter": "python",
   "pygments_lexer": "ipython3",
   "version": "3.13.7"
  }
 },
 "nbformat": 4,
 "nbformat_minor": 5
}
